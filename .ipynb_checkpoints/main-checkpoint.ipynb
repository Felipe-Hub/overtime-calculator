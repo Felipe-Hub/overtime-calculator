{
 "cells": [
  {
   "cell_type": "code",
   "execution_count": 1,
   "metadata": {},
   "outputs": [],
   "source": [
    "import pandas as pd\n",
    "import numpy as np\n",
    "import extract_msg\n",
    "import datetime\n",
    "import os\n",
    "\n",
    "from datetime import timedelta"
   ]
  },
  {
   "cell_type": "code",
   "execution_count": 2,
   "metadata": {},
   "outputs": [],
   "source": [
    "#holidays\n",
    "feriados = ('1 Jan', '21 Apr', '1 May', '20 Jun', '7 Sep', '12 Oct', '02 Nov', '15 Nov', '24 Dec', '25 Dec', '31 Dec')\n",
    "# week days\n",
    "DDS = ('Mon', 'Tue', 'Wed', 'Thu', 'Fri')"
   ]
  },
  {
   "cell_type": "code",
   "execution_count": 3,
   "metadata": {},
   "outputs": [],
   "source": [
    "# return the overtime in minutes\n",
    "# considering regular, nocturnal and weekends/holidays overtime:\n",
    "def overtime(df):\n",
    "    if df['sat'] == 0 and df['sun'] == 0 and df['holiday'] == 0 and '22:00' > df['time'] > '18:30':\n",
    "        diff = datetime.datetime.strptime(df['time'], '%H:%M:%S') - datetime.datetime.strptime('18:30:00', '%H:%M:%S')\n",
    "        diff = int(diff.total_seconds() / 60) * 1.7\n",
    "    elif df['sat'] == 0 and df['sun'] == 0 and df['holiday'] == 0 and df['time'] > '22:00':\n",
    "        diff = datetime.datetime.strptime(df['time'], '%H:%M:%S') - datetime.datetime.strptime('22:00:00', '%H:%M:%S')\n",
    "        diff = int(diff.total_seconds() / 60) * 1.7 * 1.5\n",
    "    elif df['sat'] == 0 and df['sun'] == 0 and df['holiday'] == 0 and df['time'] < '05:00':\n",
    "        diff = datetime.datetime.strptime('05:00:00', '%H:%M:%S') - datetime.datetime.strptime(df['time'], '%H:%M:%S')\n",
    "        diff = int(diff.total_seconds() / 60) * 1.7 * 1.5\n",
    "    elif df['sat'] == 1 or df['sun'] == 1 or df['holiday'] == 1:\n",
    "        diff = 60 * 2\n",
    "    else:\n",
    "        diff = 0\n",
    "    return diff\n",
    "\n",
    "## DISCLAIMER: the original version is much more complete, taking into account the brazilian labour law and conventions\n",
    "###            this is a simplified version, as proof of consept."
   ]
  },
  {
   "cell_type": "code",
   "execution_count": 4,
   "metadata": {},
   "outputs": [
    {
     "name": "stdout",
     "output_type": "stream",
     "text": [
      "Digite a data do protocolo da demanda (dd/mm/aaaa): 08/02/2019\n",
      "Digite a media salarial mensal: 10000\n"
     ]
    }
   ],
   "source": [
    "path = 'testing emails/'\n",
    "data_base_inp = input(\"Digite a data do protocolo da demanda (dd/mm/aaaa): \")\n",
    "media_salarial = input(\"Digite a media salarial mensal: \")"
   ]
  },
  {
   "cell_type": "code",
   "execution_count": 5,
   "metadata": {},
   "outputs": [],
   "source": [
    "## other optional inputs useful for calculating overtime:\n",
    "#data_desl = input(\"Digite a data de desligamento da empresa (dd/mm/aaaa): \")\n",
    "#fds = input(\"Digite a quantidade aproximada de horas trabalhadas por fim de semana: \")\n",
    "#fer = input(\"Digite a quantidade aproximada de horas trabalhadas por feriado: \")\n",
    "#valor_hora = input(\"Digite o valor da hora trabalhada: \")\n",
    "#media_salario = (\"Digite a media mensal do salario: \")"
   ]
  },
  {
   "cell_type": "code",
   "execution_count": 6,
   "metadata": {},
   "outputs": [
    {
     "name": "stdout",
     "output_type": "stream",
     "text": [
      "Coletando informações...\n"
     ]
    }
   ],
   "source": [
    "try:\n",
    "    data_base_a = data_base_inp.split(sep='/')\n",
    "    dia_db = int(data_base_a[0])\n",
    "    mes_db = int(data_base_a[1])\n",
    "    ano_db = int(data_base_a[2])\n",
    "    ano_base = int(ano_db) - 5\n",
    "    data_base = str(ano_base) + str(mes_db) + str(dia_db)\n",
    "    print(\"Coletando informações...\")\n",
    "except :\n",
    "    print(\"Digite a data no formato solicitado: dd/mm/aaaa\")\n"
   ]
  },
  {
   "cell_type": "code",
   "execution_count": 7,
   "metadata": {},
   "outputs": [
    {
     "data": {
      "text/plain": [
       "['testing emails/2017_11_29_Lista de pendencias levantadas.msg',\n",
       " 'testing emails/2017_12_06_RES Lista de pendencias.msg',\n",
       " 'testing emails/2017_12_08_RES RES Lista de pendencias.msg',\n",
       " 'testing emails/2017_12_27_RES RES RES Lista de pendencias.msg',\n",
       " 'testing emails/2018_01_16_RES RES RES Lista de pendencias.msg',\n",
       " 'testing emails/2018_01_19_RES RES RES RES Lista de pendencias.msg']"
      ]
     },
     "execution_count": 7,
     "metadata": {},
     "output_type": "execute_result"
    }
   ],
   "source": [
    "# loops throw the path indicated to read all e-mails in it\n",
    "filenames = [path+file for file in os.listdir(path) if file.endswith('.msg')]\n",
    "filenames"
   ]
  },
  {
   "cell_type": "code",
   "execution_count": 9,
   "metadata": {},
   "outputs": [
    {
     "data": {
      "text/plain": [
       "(['Wed, 29 Nov 2017 16:09:01 +0000',\n",
       "  'Wed, 06 Dec 2017 18:48:01 +0000',\n",
       "  'Fri, 08 Dec 2017 13:57:05 +0000',\n",
       "  'Tue, 26 Dec 2017 10:34:25 +0000',\n",
       "  'Tue, 16 Jan 2018 18:06:16 +0000',\n",
       "  'Fri, 19 Jan 2018 11:48:11 +0000'],\n",
       " ['<gerencia@softwarelab.com.br>',\n",
       "  '<gerencia@softwarelab.com.br>',\n",
       "  '<gerencia@softwarelab.com.br>',\n",
       "  '<gerencia@softwarelab.com.br>',\n",
       "  '<gerencia@softwarelab.com.br>',\n",
       "  '<gerencia@softwarelab.com.br>'])"
      ]
     },
     "execution_count": 9,
     "metadata": {},
     "output_type": "execute_result"
    }
   ],
   "source": [
    "# extract information on files\n",
    "msg_sender=[extract_msg.Message(file).sender for file in filenames]\n",
    "msg_date=[extract_msg.Message(file).date for file in filenames]\n",
    "msg_date, msg_sender"
   ]
  },
  {
   "cell_type": "code",
   "execution_count": null,
   "metadata": {},
   "outputs": [],
   "source": [
    "#some files might contains encoding errors, therefore, you might want to use a try and except line to keep it going:\n",
    "\n",
    "#count_err=0\n",
    "#error=[]\n",
    "#for file in filenames :\n",
    "#    try:\n",
    "#        msg_sender += msg.sender\n",
    "#        msg_date += msg.date\n",
    "#        print(msg_date, msg_sender)\n",
    "#    except:\n",
    "#        count_err += 1\n",
    "#        error += file\n",
    "#        continue"
   ]
  },
  {
   "cell_type": "code",
   "execution_count": 10,
   "metadata": {},
   "outputs": [],
   "source": [
    "week_day = [i[:3] for i in msg_date]\n",
    "date = [i[5:16].strip() for i in msg_date]\n",
    "time = [i[16:25].strip() for i in msg_date]"
   ]
  },
  {
   "cell_type": "code",
   "execution_count": 11,
   "metadata": {},
   "outputs": [],
   "source": [
    "data_frame = pd.DataFrame()\n",
    "data_frame['sender'] = msg_sender\n",
    "data_frame['week day'] = week_day\n",
    "data_frame['date'] = [' '.join(d.split()[:2]) for d in date]\n",
    "data_frame['year'] = [d.split()[-1] for d in date]\n",
    "data_frame['time'] = time\n",
    "\n",
    "#inserting test examples\n",
    "examples = {'sender': ['<gerencia@softwarelab.com.br>','<gerencia@softwarelab.com.br>','<gerencia@softwarelab.com.br>',\n",
    "                       '<gerencia@softwarelab.com.br>', '<gerencia@softwarelab.com.br>','<gerencia@softwarelab.com.br>',\n",
    "                       '<gerencia@softwarelab.com.br>','<gerencia@softwarelab.com.br>'],\n",
    "            'week day': ['Sat','Sat','Sun', 'Sun', 'Sat', 'Tue', 'Thu', 'Thu'],\n",
    "            'date': ['21 Dec','21 Dec','22 Dec','22 Dec', '7 Sep', '10 Dec', '12 Dec', '12 Dec'],\n",
    "            'year': ['2019','2019','2019','2019','2019','2019','2019','2019'],\n",
    "            'time': ['12:00:00', '12:30:00', '19:00:00', '22:40:00', '12:00:00', '03:40:00', '19:00:00', '23:40:00']\n",
    "           }\n",
    "\n",
    "data_frame_2 = pd.DataFrame.from_dict(examples)\n",
    "\n",
    "data_frame = pd.concat([data_frame, data_frame_2])"
   ]
  },
  {
   "cell_type": "code",
   "execution_count": 13,
   "metadata": {},
   "outputs": [
    {
     "data": {
      "text/html": [
       "<div>\n",
       "<style scoped>\n",
       "    .dataframe tbody tr th:only-of-type {\n",
       "        vertical-align: middle;\n",
       "    }\n",
       "\n",
       "    .dataframe tbody tr th {\n",
       "        vertical-align: top;\n",
       "    }\n",
       "\n",
       "    .dataframe thead th {\n",
       "        text-align: right;\n",
       "    }\n",
       "</style>\n",
       "<table border=\"1\" class=\"dataframe\">\n",
       "  <thead>\n",
       "    <tr style=\"text-align: right;\">\n",
       "      <th></th>\n",
       "      <th>overtime</th>\n",
       "    </tr>\n",
       "    <tr>\n",
       "      <th>date_year</th>\n",
       "      <th></th>\n",
       "    </tr>\n",
       "  </thead>\n",
       "  <tbody>\n",
       "    <tr>\n",
       "      <th>12 Dec 2019</th>\n",
       "      <td>255.0</td>\n",
       "    </tr>\n",
       "    <tr>\n",
       "      <th>10 Dec 2019</th>\n",
       "      <td>204.0</td>\n",
       "    </tr>\n",
       "    <tr>\n",
       "      <th>21 Dec 2019</th>\n",
       "      <td>120.0</td>\n",
       "    </tr>\n",
       "    <tr>\n",
       "      <th>22 Dec 2019</th>\n",
       "      <td>120.0</td>\n",
       "    </tr>\n",
       "    <tr>\n",
       "      <th>7 Sep 2019</th>\n",
       "      <td>120.0</td>\n",
       "    </tr>\n",
       "    <tr>\n",
       "      <th>06 Dec 2017</th>\n",
       "      <td>30.6</td>\n",
       "    </tr>\n",
       "    <tr>\n",
       "      <th>08 Dec 2017</th>\n",
       "      <td>0.0</td>\n",
       "    </tr>\n",
       "    <tr>\n",
       "      <th>16 Jan 2018</th>\n",
       "      <td>0.0</td>\n",
       "    </tr>\n",
       "    <tr>\n",
       "      <th>19 Jan 2018</th>\n",
       "      <td>0.0</td>\n",
       "    </tr>\n",
       "    <tr>\n",
       "      <th>26 Dec 2017</th>\n",
       "      <td>0.0</td>\n",
       "    </tr>\n",
       "    <tr>\n",
       "      <th>29 Nov 2017</th>\n",
       "      <td>0.0</td>\n",
       "    </tr>\n",
       "  </tbody>\n",
       "</table>\n",
       "</div>"
      ],
      "text/plain": [
       "             overtime\n",
       "date_year            \n",
       "12 Dec 2019     255.0\n",
       "10 Dec 2019     204.0\n",
       "21 Dec 2019     120.0\n",
       "22 Dec 2019     120.0\n",
       "7 Sep 2019      120.0\n",
       "06 Dec 2017      30.6\n",
       "08 Dec 2017       0.0\n",
       "16 Jan 2018       0.0\n",
       "19 Jan 2018       0.0\n",
       "26 Dec 2017       0.0\n",
       "29 Nov 2017       0.0"
      ]
     },
     "execution_count": 13,
     "metadata": {},
     "output_type": "execute_result"
    }
   ],
   "source": [
    "data_frame['date_year'] = data_frame.apply(lambda x: x['date'] + ' ' + x['year'], axis=1)\n",
    "data_frame['holiday'] = data_frame['date'].apply(lambda x: 1 if x in feriados else 0)\n",
    "data_frame['sat'] = data_frame['week day'].apply(lambda x: 1 if x == 'Sat' else 0)\n",
    "data_frame['sun'] = data_frame['week day'].apply(lambda x: 1 if x == 'Sun' else 0)\n",
    "data_frame['overtime'] = data_frame.apply(overtime, axis=1)\n",
    "\n",
    "#avoiding repeated dates\n",
    "over_df = data_frame.groupby('date_year').agg({'overtime':max}).sort_values('overtime', ascending=False)\n",
    "over_df"
   ]
  },
  {
   "cell_type": "code",
   "execution_count": 15,
   "metadata": {},
   "outputs": [],
   "source": [
    "## calculations\n",
    "\n",
    "valor_hora = int(media_salarial) / 22 / 8\n",
    "ammount = round(sum(over_df['overtime'])/60 * valor_hora, 2)\n",
    "\n",
    "count = len(data_frame)"
   ]
  },
  {
   "cell_type": "code",
   "execution_count": 17,
   "metadata": {},
   "outputs": [
    {
     "name": "stdout",
     "output_type": "stream",
     "text": [
      "Tudo pronto!\n",
      "APERTE ENTER PARA FINALIZAR\n"
     ]
    },
    {
     "data": {
      "text/plain": [
       "''"
      ]
     },
     "execution_count": 17,
     "metadata": {},
     "output_type": "execute_result"
    }
   ],
   "source": [
    "#Resultados\n",
    "with open(\"resultados.txt\", \"w\") as fl:\n",
    "    print(\"\\n\", file=fl)\n",
    "    print(\"==============\", file=fl)\n",
    "    print(\"**RESULTADOS**\", file=fl)\n",
    "    print(\"==============\", file=fl)\n",
    "    print(\"Informações coletadas de\",count, \"e-mails\", file=fl)\n",
    "    print(\"Data base do período prescrito:\", dia_db,\"/\", mes_db,\"/\", ano_base, file=fl)\n",
    "    print(\"Média salarial =\", media_salarial, file=fl)\n",
    "    print(\"Valor da hora Trabalhada =\", valor_hora, file=fl)\n",
    "    print(\"==============\", file=fl)\n",
    "    print(\"Total de Horas Extras =\", round(sum(over_df['overtime'])), \"horas\", file=fl)\n",
    "    print(\"Total devido = R$\", ammount, file=fl)\n",
    "    print(\"==============\", file=fl)\n",
    "    print(\" \", file=fl)\n",
    "    print(\"Valores da Hora Extra: Intrajornada = 50%  |  Noturna = 50%  |  Normal = 70%  |\" \\\n",
    "          \"Fim de Semana = 100%  |  Feriados = 100%\", file=fl)\n",
    "\n",
    "print(\"Tudo pronto!\")\n",
    "input('APERTE ENTER PARA FINALIZAR')"
   ]
  },
  {
   "cell_type": "code",
   "execution_count": null,
   "metadata": {},
   "outputs": [],
   "source": []
  }
 ],
 "metadata": {
  "kernelspec": {
   "display_name": "Python 3",
   "language": "python",
   "name": "python3"
  },
  "language_info": {
   "codemirror_mode": {
    "name": "ipython",
    "version": 3
   },
   "file_extension": ".py",
   "mimetype": "text/x-python",
   "name": "python",
   "nbconvert_exporter": "python",
   "pygments_lexer": "ipython3",
   "version": "3.7.4"
  }
 },
 "nbformat": 4,
 "nbformat_minor": 2
}
